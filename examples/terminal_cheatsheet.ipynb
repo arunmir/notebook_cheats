{
 "cells": [
  {
   "cell_type": "markdown",
   "metadata": {},
   "source": [
    "# Terminal shortcuts"
   ]
  },
  {
   "cell_type": "markdown",
   "metadata": {},
   "source": [
    "# Imports"
   ]
  },
  {
   "cell_type": "code",
   "execution_count": 1,
   "metadata": {},
   "outputs": [],
   "source": [
    "# include parent directory\n",
    "import sys\n",
    "sys.path.insert(0,'..')"
   ]
  },
  {
   "cell_type": "code",
   "execution_count": 8,
   "metadata": {},
   "outputs": [],
   "source": [
    "# standard imports\n",
    "import os\n",
    "import importlib"
   ]
  },
  {
   "cell_type": "code",
   "execution_count": 31,
   "metadata": {},
   "outputs": [],
   "source": [
    "from output_printer import OutputPrinter\n",
    "from prettify import keyboard_shortcuts as ks"
   ]
  },
  {
   "cell_type": "code",
   "execution_count": 32,
   "metadata": {},
   "outputs": [],
   "source": [
    "ks.import_style('../styles/keyboard_style.css')"
   ]
  },
  {
   "cell_type": "markdown",
   "metadata": {},
   "source": [
    "## Reload module"
   ]
  },
  {
   "cell_type": "code",
   "execution_count": 25,
   "metadata": {},
   "outputs": [
    {
     "data": {
      "text/plain": [
       "<module 'output_printer' from '../output_printer/__init__.py'>"
      ]
     },
     "execution_count": 25,
     "metadata": {},
     "output_type": "execute_result"
    }
   ],
   "source": [
    "importlib.reload(sys.modules['output_printer'])"
   ]
  },
  {
   "cell_type": "markdown",
   "metadata": {},
   "source": [
    "# Shortcuts"
   ]
  },
  {
   "cell_type": "code",
   "execution_count": 26,
   "metadata": {},
   "outputs": [],
   "source": [
    "term_shortcuts = []\n",
    "term_shortcuts.append([['ctrl','r'],'search command history'])\n",
    "term_shortcuts.append([['ctrl','c'],'Stop current process'])\n",
    "term_shortcuts.append([['ctrl','z'],'Send current process to background'])\n",
    "term_shortcuts.append([['ctrl','d'],'Log out of the current terminal session'])\n",
    "term_shortcuts.append([['ctrl','l'],'Clear terminal'])\n",
    "term_shortcuts.append([['ctrl','a'],'Move cursor to beginning'])\n",
    "term_shortcuts.append([['ctrl','e'],'Move cursor to end'])\n",
    "term_shortcuts.append([['ctrl','u'],'Erase to start of line'])\n",
    "term_shortcuts.append([['ctrl','k'],'Erase to end of line'])\n",
    "term_shortcuts.append([['ctrl','w'],'Erase  line'])\n",
    "term_shortcuts.append([['ctrl','p'],'previous command'])\n",
    "term_shortcuts.append([['ctrl','n'],'next command'])\n",
    "term_shortcuts.append([['tab'],'Auto complete'])\n"
   ]
  },
  {
   "cell_type": "code",
   "execution_count": 34,
   "metadata": {},
   "outputs": [
    {
     "data": {
      "text/html": [
       "<table><tr><th>Keys</th><th>Description</th></tr><tr><td><kbd>Ctrl</kbd> + <kbd>r</kbd></td><td>search command history</td></tr><tr><td><kbd>Ctrl</kbd> + <kbd>c</kbd></td><td>Stop current process</td></tr><tr><td><kbd>Ctrl</kbd> + <kbd>z</kbd></td><td>Send current process to background</td></tr><tr><td><kbd>Ctrl</kbd> + <kbd>d</kbd></td><td>Log out of the current terminal session</td></tr><tr><td><kbd>Ctrl</kbd> + <kbd>l</kbd></td><td>Clear terminal</td></tr><tr><td><kbd>Ctrl</kbd> + <kbd>a</kbd></td><td>Move cursor to beginning</td></tr><tr><td><kbd>Ctrl</kbd> + <kbd>e</kbd></td><td>Move cursor to end</td></tr><tr><td><kbd>Ctrl</kbd> + <kbd>u</kbd></td><td>Erase to start of line</td></tr><tr><td><kbd>Ctrl</kbd> + <kbd>k</kbd></td><td>Erase to end of line</td></tr><tr><td><kbd>Ctrl</kbd> + <kbd>w</kbd></td><td>Erase  line</td></tr><tr><td><kbd>Ctrl</kbd> + <kbd>p</kbd></td><td>previous command</td></tr><tr><td><kbd>Ctrl</kbd> + <kbd>n</kbd></td><td>next command</td></tr><tr><td><kbd>tab</kbd></td><td>Auto complete</td></tr></table>"
      ],
      "text/plain": [
       "<IPython.core.display.HTML object>"
      ]
     },
     "execution_count": 34,
     "metadata": {},
     "output_type": "execute_result"
    }
   ],
   "source": [
    "ks.display_shortcut_list(term_shortcuts,kb=\"win\",oHTML=1)"
   ]
  }
 ],
 "metadata": {
  "kernelspec": {
   "display_name": "Python 3",
   "language": "python",
   "name": "python3"
  },
  "language_info": {
   "codemirror_mode": {
    "name": "ipython",
    "version": 3
   },
   "file_extension": ".py",
   "mimetype": "text/x-python",
   "name": "python",
   "nbconvert_exporter": "python",
   "pygments_lexer": "ipython3",
   "version": "3.8.2"
  }
 },
 "nbformat": 4,
 "nbformat_minor": 4
}
